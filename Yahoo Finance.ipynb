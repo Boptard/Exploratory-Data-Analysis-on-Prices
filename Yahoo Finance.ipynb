{
 "cells": [
  {
   "cell_type": "code",
   "id": "initial_id",
   "metadata": {
    "collapsed": true,
    "ExecuteTime": {
     "end_time": "2025-08-06T21:51:58.505854Z",
     "start_time": "2025-08-06T21:51:58.500179Z"
    }
   },
   "source": [
    "import os\n",
    "import pandas as pd\n",
    "import numpy as np\n",
    "import matplotlib.pyplot as plt\n",
    "import yfinance as yf\n",
    "\n",
    "# show plots inline\n",
    "%matplotlib inline\n",
    "\n",
    "BASE_DIR = os.getcwd()\n",
    "DATA_DIR = os.path.join(BASE_DIR, 'data')\n",
    "FIGURES_DIR = os.path.join(BASE_DIR, 'figures')\n",
    "\n",
    "# directories exist\n",
    "os.makedirs(DATA_DIR, exist_ok=True)\n",
    "os.makedirs(FIGURES_DIR, exist_ok=True)\n",
    "\n",
    "print(f\"Data directory: {DATA_DIR}\")\n",
    "print(f\"Figures directory: {FIGURES_DIR}\")"
   ],
   "outputs": [
    {
     "name": "stdout",
     "output_type": "stream",
     "text": [
      "Data directory: /Users/daeseolee/Documents/Exploratory-Data-Analysis-on-Prices/notebooks/data\n",
      "Figures directory: /Users/daeseolee/Documents/Exploratory-Data-Analysis-on-Prices/notebooks/figures\n"
     ]
    }
   ],
   "execution_count": 7
  },
  {
   "metadata": {
    "ExecuteTime": {
     "end_time": "2025-08-06T21:48:18.632851Z",
     "start_time": "2025-08-06T21:48:18.631138Z"
    }
   },
   "cell_type": "code",
   "source": "",
   "id": "88c4a1a91b72eb63",
   "outputs": [],
   "execution_count": 3
  }
 ],
 "metadata": {
  "kernelspec": {
   "display_name": "Python 3",
   "language": "python",
   "name": "python3"
  },
  "language_info": {
   "codemirror_mode": {
    "name": "ipython",
    "version": 2
   },
   "file_extension": ".py",
   "mimetype": "text/x-python",
   "name": "python",
   "nbconvert_exporter": "python",
   "pygments_lexer": "ipython2",
   "version": "2.7.6"
  }
 },
 "nbformat": 4,
 "nbformat_minor": 5
}
